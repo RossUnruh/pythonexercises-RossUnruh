{
 "cells": [
  {
   "cell_type": "markdown",
   "metadata": {},
   "source": [
    "## Python Exercises - Session 3: Control Flow & Strings\n",
    "The exercises below are organized to match [A Whirlwind Tour of Python (VanderPlas)](https://jakevdp.github.io/WhirlwindTourOfPython/). Specific pages are referenced in the various sections. These are designed to run using Python 3.6.\n",
    "\n",
    "Follow the guidelines below. Where necessary replace the ellipses (`...`) with the appropriate code in the code blocks, the run the code by pressing ctrl-enter. Be sure to save your document before closing. "
   ]
  },
  {
   "cell_type": "markdown",
   "metadata": {},
   "source": [
    "---\n",
    "### 3.1 Conditional Statements: `if`, `elif`, and `else` ([p 38](http://nbviewer.jupyter.org/github/env859/WhirlwindTourOfPython/blob/master/07-Control-Flow-Statements.ipynb))\n",
    "##### What to know\n",
    "* Using the `if` statement to control what code gets run\n",
    "  * Use of the colon, Boolean condition, and indentation to control execution\n",
    "  * How `elif` can be used to add more conditional code blocks\n",
    "  * How `else` can be used to run code when all the `if`'s and `elif`'s are not met. "
   ]
  },
  {
   "cell_type": "markdown",
   "metadata": {},
   "source": [
    "#### ► 3.1.1 Modify the code below so it works to print `too slow`"
   ]
  },
  {
   "cell_type": "code",
   "execution_count": 3,
   "metadata": {},
   "outputs": [],
   "source": [
    "avg_speed = 30\n",
    "if avg_speed<15:\n",
    "    print(\"too slow\")"
   ]
  },
  {
   "cell_type": "markdown",
   "metadata": {},
   "source": [
    "#### ► 3.1.2 Write a series of `if`/`elif`/`else` statements that evaluates the value of `elev_feet` such that:\n",
    "* If `elev_feet` is less than 400, it prints \"too low\"\n",
    "* If `elev_feet` is greater than 500, it prints \"too high\"\n",
    "* If `elev_feet ` equal 450, it print \"got it!\"\n",
    "* If none of the above conditions are met, it prints \"close enough\"\n",
    "* Print \"Play again?\" after evaluating the \"elev_feet\" value"
   ]
  },
  {
   "cell_type": "code",
   "execution_count": 2,
   "metadata": {},
   "outputs": [
    {
     "name": "stdout",
     "output_type": "stream",
     "text": [
      "close enough\n",
      "Play again?\n"
     ]
    }
   ],
   "source": [
    "elev_feet = 475\n",
    "if elev_feet<400:\n",
    "    print('too low')\n",
    "if elev_feet>500:  \n",
    "    print('too high')\n",
    "if elev_feet == 450:  \n",
    "    print('got it!')\n",
    "else:\n",
    "    print('close enough')\n",
    "print(\"Play again?\")"
   ]
  },
  {
   "cell_type": "markdown",
   "metadata": {},
   "source": [
    "---\n",
    "### 3.2 `for` loops ([p 38](http://nbviewer.jupyter.org/github/env859/WhirlwindTourOfPython/blob/master/07-Control-Flow-Statements.ipynb))"
   ]
  },
  {
   "cell_type": "markdown",
   "metadata": {},
   "source": [
    "**3.2.1** Create a for loop that iterates through the items in the list of states and prints them."
   ]
  },
  {
   "cell_type": "code",
   "execution_count": 5,
   "metadata": {},
   "outputs": [
    {
     "name": "stdout",
     "output_type": "stream",
     "text": [
      "Maine\n",
      "Ohio\n",
      "Kansas\n",
      "Utah\n",
      "Alaska\n",
      "Nevada\n"
     ]
    }
   ],
   "source": [
    "states = ['Maine','Ohio','Kansas','Utah','Alaska','Nevada']\n",
    "for state in states:\n",
    "    print(state)"
   ]
  },
  {
   "cell_type": "markdown",
   "metadata": {},
   "source": [
    "**3.2.2** Combine a `for` loop and the `range` function to print powers of 2 up to the 8th power of 2 (256)"
   ]
  },
  {
   "cell_type": "code",
   "execution_count": 6,
   "metadata": {},
   "outputs": [
    {
     "name": "stdout",
     "output_type": "stream",
     "text": [
      "2 4\n",
      "3 8\n",
      "4 16\n",
      "5 32\n",
      "6 64\n",
      "7 128\n",
      "8 256\n"
     ]
    }
   ],
   "source": [
    "for x in range(2,9):\n",
    "    print(x, 2**x)    "
   ]
  },
  {
   "cell_type": "markdown",
   "metadata": {},
   "source": [
    "**3.2.3** *The first line in the code below reads in the contents of the MHK_KS_Weather.csv file and stores each line as item in the list `lineList`.* Iterate through the lines in the `lineList` list and print the <u>length</u> of each line."
   ]
  },
  {
   "cell_type": "code",
   "execution_count": 7,
   "metadata": {},
   "outputs": [
    {
     "name": "stdout",
     "output_type": "stream",
     "text": [
      "113\n",
      "55\n",
      "54\n",
      "56\n",
      "49\n",
      "57\n",
      "52\n",
      "52\n",
      "54\n",
      "57\n",
      "59\n",
      "54\n",
      "57\n",
      "56\n",
      "56\n",
      "56\n",
      "54\n",
      "54\n",
      "59\n",
      "52\n",
      "56\n",
      "54\n",
      "50\n",
      "54\n",
      "57\n",
      "56\n",
      "56\n",
      "57\n",
      "56\n",
      "56\n",
      "55\n",
      "55\n",
      "54\n",
      "54\n",
      "55\n",
      "57\n",
      "52\n",
      "52\n",
      "54\n",
      "48\n",
      "56\n",
      "54\n",
      "52\n",
      "54\n",
      "59\n",
      "59\n",
      "59\n",
      "56\n",
      "56\n",
      "56\n",
      "59\n",
      "54\n",
      "52\n",
      "56\n",
      "56\n",
      "53\n",
      "57\n",
      "56\n",
      "60\n",
      "54\n",
      "57\n",
      "52\n",
      "53\n",
      "54\n",
      "57\n",
      "57\n",
      "57\n",
      "57\n",
      "54\n",
      "50\n",
      "57\n",
      "54\n",
      "55\n",
      "54\n",
      "55\n",
      "56\n",
      "56\n",
      "54\n",
      "56\n",
      "56\n",
      "57\n",
      "57\n"
     ]
    }
   ],
   "source": [
    "lineList = open('MHK_KS_Weather.csv','r').readlines()\n",
    "for line in lineList:\n",
    "    print(len(line))"
   ]
  },
  {
   "cell_type": "markdown",
   "metadata": {},
   "source": [
    "**3.2.4** Extract the 10th line from the lineList to a variable called `line10`. Then use the string `split()` method to break this line up into a new list called `lineData`. *(Note that this is a `csv` file, so values are separated by a comma.)* Finally print each of these items, one at a time."
   ]
  },
  {
   "cell_type": "code",
   "execution_count": 8,
   "metadata": {},
   "outputs": [
    {
     "name": "stdout",
     "output_type": "stream",
     "text": [
      "6/11/2023,6,11,2023,162,75,56.8,78.6,0,6.7,20.1,382.6\n"
     ]
    }
   ],
   "source": [
    "line10 = lineList[11]\n",
    "lineData = line10.split()\n",
    "for line in lineData:\n",
    "    print(line)"
   ]
  },
  {
   "cell_type": "markdown",
   "metadata": {},
   "source": [
    "---\n",
    "### 3.3 Iterator and the `range()` function ([p52](https://nbviewer.jupyter.org/github/env859/WhirlwindTourOfPython/blob/master/10-Iterators.ipynb#Iterators))"
   ]
  },
  {
   "cell_type": "markdown",
   "metadata": {},
   "source": [
    "**3.3.1** Print the phrase \"Python is fun!\" 5 times using the `range()` function and a `for` loop."
   ]
  },
  {
   "cell_type": "code",
   "execution_count": 9,
   "metadata": {},
   "outputs": [
    {
     "name": "stdout",
     "output_type": "stream",
     "text": [
      "Python is fun!\n",
      "Python is fun!\n",
      "Python is fun!\n",
      "Python is fun!\n",
      "Python is fun!\n"
     ]
    }
   ],
   "source": [
    "for x in range(1,6):\n",
    "    print(\"Python is fun!\")"
   ]
  },
  {
   "cell_type": "markdown",
   "metadata": {},
   "source": [
    "**3.3.2** Using the `range()` function in a `for` loop, print the every number between 480 and 490."
   ]
  },
  {
   "cell_type": "code",
   "execution_count": 10,
   "metadata": {},
   "outputs": [
    {
     "name": "stdout",
     "output_type": "stream",
     "text": [
      "481, 482, 483, 484, 485, 486, 487, 488, 489, "
     ]
    }
   ],
   "source": [
    "for i in range(481,490):\n",
    "    print (i, end=', ')"
   ]
  },
  {
   "cell_type": "markdown",
   "metadata": {},
   "source": [
    "**3.3.3** Using the `range()` function in a `for` loop, print every *other* number between 480 and 490. "
   ]
  },
  {
   "cell_type": "code",
   "execution_count": 11,
   "metadata": {},
   "outputs": [
    {
     "name": "stdout",
     "output_type": "stream",
     "text": [
      "481, 483, 485, 487, 489, "
     ]
    }
   ],
   "source": [
    "for i in range(481,490,2):\n",
    "    print (i, end=', ')"
   ]
  },
  {
   "cell_type": "markdown",
   "metadata": {},
   "source": [
    "---\n",
    "### 3.4 `while` loops ([p 39](http://nbviewer.jupyter.org/github/env859/WhirlwindTourOfPython/blob/master/07-Control-Flow-Statements.ipynb))"
   ]
  },
  {
   "cell_type": "markdown",
   "metadata": {},
   "source": [
    "**3.4.1** Write a `while` loop that prints each year, starting at 2017, stops after printing *2020*"
   ]
  },
  {
   "cell_type": "code",
   "execution_count": 12,
   "metadata": {},
   "outputs": [
    {
     "name": "stdout",
     "output_type": "stream",
     "text": [
      "2016\n",
      "2017\n",
      "2018\n",
      "2019\n",
      "2020\n"
     ]
    }
   ],
   "source": [
    "year = 2016\n",
    "while year<=2020:\n",
    "    print(year)\n",
    "    year += 1"
   ]
  },
  {
   "cell_type": "markdown",
   "metadata": {},
   "source": [
    "**3.4.2** The Python `input` function prompts the user to enter a value. Use a while loop to continue asking the user to \"pick a number between 1 and 4\" until the user guesses correctly."
   ]
  },
  {
   "cell_type": "code",
   "execution_count": 13,
   "metadata": {
    "scrolled": false
   },
   "outputs": [
    {
     "name": "stdout",
     "output_type": "stream",
     "text": [
      "Guess my number, between 1 and 4: 2\n",
      "Nope, guess again: 3\n",
      "Nope, guess again: 1\n",
      "Got it!, It was 1\n"
     ]
    }
   ],
   "source": [
    "guess = input(\"Guess my number, between 1 and 4: \")\n",
    "\n",
    "while guess != \"1\":\n",
    "    guess = input(\"Nope, guess again: \")\n",
    "\n",
    "print (\"Got it!, It was 1\")\n"
   ]
  },
  {
   "cell_type": "markdown",
   "metadata": {},
   "source": [
    "### 3.5 `break` and `continue`"
   ]
  },
  {
   "cell_type": "code",
   "execution_count": 14,
   "metadata": {},
   "outputs": [],
   "source": [
    "#Run this to generate a dictionary of states (keys) and their capitol (values)\n",
    "state_capitals={\"Washington\":\"Olympia\",\"Oregon\":\"Salem\",\n",
    "                \"California\":\"Sacramento\",\"Ohio\":\"Columbus\",\n",
    "                \"Nebraska\":\"Lincoln\",\"Colorado\":\"Denver\",\n",
    "                \"Michigan\":\"Lansing\",\"Massachusetts\":\"Boston\",\n",
    "                \"Florida\":\"Tallahassee\",\"Texas\":\"Austin\",\n",
    "                \"Oklahoma\":\"Oklahoma City\",\"Hawaii\":\"Honolulu\",\n",
    "                \"Alaska\":\"Juneau\",\"Utah\":\"Salt Lake City\",\n",
    "                \"New Mexico\":\"Santa Fe\",\"North Dakota\":\"Bismarck\",\n",
    "                \"South Dakota\":\"Pierre\",\"West Virginia\":\"Charleston\",\n",
    "                \"Virginia\":\"Richmond\",\"New Jersey\":\"Trenton\",\n",
    "                \"Minnesota\":\"Saint Paul\",\"Illinois\":\"Springfield\",\n",
    "                \"Indiana\":\"Indianapolis\",\"Kentucky\":\"Frankfort\",\n",
    "                \"Tennessee\":\"Nashville\",\"Georgia\":\"Atlanta\",\n",
    "                \"Alabama\":\"Montgomery\",\"Mississippi\":\"Jackson\",\n",
    "                \"North Carolina\":\"Raleigh\",\"South Carolina\":\"Columbia\",\n",
    "                \"Maine\":\"Augusta\",\"Vermont\":\"Montpelier\",\n",
    "                \"New Hampshire\":\"Concord\",\"Connecticut\":\"Hartford\",\n",
    "                \"Rhode Island\":\"Providence\",\"Wyoming\":\"Cheyenne\",\n",
    "                \"Montana\":\"Helena\",\"Kansas\":\"Topeka\",\n",
    "                \"Iowa\":\"Des Moines\",\"Pennsylvania\":\"Harrisburg\",\n",
    "                \"Maryland\":\"Annapolis\",\"Missouri\":\"Jefferson City\",\n",
    "                \"Arizona\":\"Phoenix\",\"Nevada\":\"Carson City\",\n",
    "                \"New York\":\"Albany\",\"Wisconsin\":\"Madison\",\n",
    "                \"Delaware\":\"Dover\",\"Idaho\":\"Boise\",\n",
    "                \"Arkansas\":\"Little Rock\",\"Louisiana\":\"Baton Rouge\"}"
   ]
  },
  {
   "cell_type": "markdown",
   "metadata": {},
   "source": [
    "**3.5.1** Use a `for` loop and a `break` statement to iterate through states (i.e., the keys) in the `state_capitals` dictionary, printing the name of the state's capitol, stopping when 'Texas' is reached (and not printing Texas' capitol). "
   ]
  },
  {
   "cell_type": "code",
   "execution_count": 63,
   "metadata": {},
   "outputs": [
    {
     "name": "stdout",
     "output_type": "stream",
     "text": [
      "Olympia\n",
      "Salem\n",
      "Sacramento\n",
      "Columbus\n",
      "Lincoln\n",
      "Denver\n",
      "Lansing\n",
      "Boston\n",
      "Tallahassee\n"
     ]
    }
   ],
   "source": [
    "for keys in state_capitals.keys():\n",
    "    if keys == \"Texas\":\n",
    "        break\n",
    "    print(state_capitals.get(keys))"
   ]
  },
  {
   "cell_type": "markdown",
   "metadata": {},
   "source": [
    "**3.5.2** Modify the `if` statment and swap the `break` statement with `continue` so that instead of stopping at Texas, the loop  **skips** printing the capital of any state ending with the letter `a`. "
   ]
  },
  {
   "cell_type": "code",
   "execution_count": 65,
   "metadata": {},
   "outputs": [
    {
     "name": "stdout",
     "output_type": "stream",
     "text": [
      "Olympia\n",
      "Salem\n",
      "Columbus\n",
      "Denver\n",
      "Lansing\n",
      "Boston\n",
      "Austin\n",
      "Honolulu\n",
      "Salt Lake City\n",
      "Santa Fe\n",
      "Trenton\n",
      "Springfield\n",
      "Frankfort\n",
      "Nashville\n",
      "Jackson\n",
      "Augusta\n",
      "Montpelier\n",
      "Concord\n",
      "Hartford\n",
      "Providence\n",
      "Cheyenne\n",
      "Topeka\n",
      "Annapolis\n",
      "Jefferson City\n",
      "Albany\n",
      "Madison\n",
      "Dover\n",
      "Boise\n",
      "Little Rock\n"
     ]
    }
   ],
   "source": [
    "   for keys in state_capitals.keys():\n",
    "    if keys[-1] == \"a\":\n",
    "        continue\n",
    "    print(state_capitals.get(keys))"
   ]
  },
  {
   "cell_type": "markdown",
   "metadata": {},
   "source": [
    "## 6. String Manipulation"
   ]
  },
  {
   "cell_type": "markdown",
   "metadata": {},
   "source": [
    "**3.6.1** Create a new variable called \"all_sports_lower\" that has the contents of the `all_sports` string, but using all lowercase letters."
   ]
  },
  {
   "cell_type": "code",
   "execution_count": 40,
   "metadata": {},
   "outputs": [
    {
     "name": "stdout",
     "output_type": "stream",
     "text": [
      "soccer, basketball, hockey, football\n"
     ]
    }
   ],
   "source": [
    "#Create the initial string\n",
    "all_sports = \"Soccer, BASKETBALL, Hockey, Football\"\n",
    "all_sports_lower = all_sports.lower()\n",
    "print(all_sports_lower)"
   ]
  },
  {
   "cell_type": "markdown",
   "metadata": {},
   "source": [
    "**3.6.2** Use the `split()` function to parse the string into a list variable named \"sports\". "
   ]
  },
  {
   "cell_type": "code",
   "execution_count": 41,
   "metadata": {},
   "outputs": [
    {
     "name": "stdout",
     "output_type": "stream",
     "text": [
      "['soccer,', 'basketball,', 'hockey,', 'football']\n"
     ]
    }
   ],
   "source": [
    "sports = all_sports_lower.split()\n",
    "print(sports)"
   ]
  },
  {
   "cell_type": "markdown",
   "metadata": {},
   "source": [
    "**3.6.3** Tweak the code below to print Euler's number ($e$) to 6 decimal places."
   ]
  },
  {
   "cell_type": "code",
   "execution_count": 62,
   "metadata": {},
   "outputs": [
    {
     "name": "stdout",
     "output_type": "stream",
     "text": [
      "2.7182818\n"
     ]
    }
   ],
   "source": [
    "e = \"2.71828182845904\"\n",
    "print(e[0:9])"
   ]
  },
  {
   "cell_type": "markdown",
   "metadata": {},
   "source": [
    "**3.6.4** Use the variables below to print out the address so it appears as:\n",
    "```\n",
    "222 Main St.\n",
    "Manhattan, KS 66502\n",
    "```\n",
    "    "
   ]
  },
  {
   "cell_type": "code",
   "execution_count": 54,
   "metadata": {},
   "outputs": [],
   "source": [
    "house_number = \"222\"\n",
    "street_name = \"Main st.\"\n",
    "city = \"Manhattan\"\n",
    "state = \"KS\"\n",
    "zip = \"66502\""
   ]
  },
  {
   "cell_type": "code",
   "execution_count": 55,
   "metadata": {},
   "outputs": [
    {
     "name": "stdout",
     "output_type": "stream",
     "text": [
      "222 Main st.\n",
      "Manhattan, KS 66502\n"
     ]
    }
   ],
   "source": [
    "print(house_number + \" \" + street_name + \"\\n\" + city + \",\" + \" \" + state + \" \" + zip)"
   ]
  }
 ],
 "metadata": {
  "kernelspec": {
   "display_name": "Python 3 (ipykernel)",
   "language": "python",
   "name": "python3"
  },
  "language_info": {
   "codemirror_mode": {
    "name": "ipython",
    "version": 3
   },
   "file_extension": ".py",
   "mimetype": "text/x-python",
   "name": "python",
   "nbconvert_exporter": "python",
   "pygments_lexer": "ipython3",
   "version": "3.11.8"
  }
 },
 "nbformat": 4,
 "nbformat_minor": 2
}
